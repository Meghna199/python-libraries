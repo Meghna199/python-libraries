{
 "cells": [
  {
   "cell_type": "code",
   "execution_count": 1,
   "metadata": {},
   "outputs": [],
   "source": [
    "import numpy as np"
   ]
  },
  {
   "cell_type": "markdown",
   "metadata": {},
   "source": [
    "# Array functions"
   ]
  },
  {
   "cell_type": "code",
   "execution_count": 2,
   "metadata": {},
   "outputs": [
    {
     "name": "stdout",
     "output_type": "stream",
     "text": [
      "[21 31 41 51]\n"
     ]
    }
   ],
   "source": [
    "#creating 1d array\n",
    "a1= [21,31,41,51]\n",
    "narray = np.array(a1)\n",
    "print(narray)"
   ]
  },
  {
   "cell_type": "code",
   "execution_count": 3,
   "metadata": {},
   "outputs": [
    {
     "data": {
      "text/plain": [
       "numpy.ndarray"
      ]
     },
     "execution_count": 3,
     "metadata": {},
     "output_type": "execute_result"
    }
   ],
   "source": [
    "type(narray)"
   ]
  },
  {
   "cell_type": "code",
   "execution_count": 5,
   "metadata": {},
   "outputs": [
    {
     "name": "stdout",
     "output_type": "stream",
     "text": [
      "[[21 31 41 51]\n",
      " [22 33 44 55]]\n"
     ]
    }
   ],
   "source": [
    "#creating 2d array \n",
    "b1= [22,33,44,55]\n",
    "narray2 = np.array([a1,b1])\n",
    "print (narray2)"
   ]
  },
  {
   "cell_type": "code",
   "execution_count": 6,
   "metadata": {},
   "outputs": [
    {
     "data": {
      "text/plain": [
       "numpy.ndarray"
      ]
     },
     "execution_count": 6,
     "metadata": {},
     "output_type": "execute_result"
    }
   ],
   "source": [
    "type(narray2)"
   ]
  },
  {
   "cell_type": "code",
   "execution_count": 7,
   "metadata": {},
   "outputs": [
    {
     "name": "stdout",
     "output_type": "stream",
     "text": [
      "Shape for 1d array\n",
      "(4,)\n",
      "shape for 2d array\n",
      "(2, 4)\n"
     ]
    }
   ],
   "source": [
    "#finding dimensions of array- shape\n",
    "print(\"Shape of 1d array\")\n",
    "print(narray.shape)\n",
    "\n",
    "print(\"shape of 2d array\")\n",
    "print(narray2.shape)"
   ]
  },
  {
   "cell_type": "code",
   "execution_count": 8,
   "metadata": {},
   "outputs": [
    {
     "name": "stdout",
     "output_type": "stream",
     "text": [
      "datatype of 1d array\n",
      "int32\n",
      "datatype of 2d array\n",
      "int32\n"
     ]
    }
   ],
   "source": [
    "#finding data type of array - dtype\n",
    "print(\"datatype of 1d array\")\n",
    "print(narray.dtype)\n",
    "\n",
    "print(\"datatype of 2d array\")\n",
    "print(narray2.dtype)"
   ]
  },
  {
   "cell_type": "code",
   "execution_count": 9,
   "metadata": {},
   "outputs": [
    {
     "name": "stdout",
     "output_type": "stream",
     "text": [
      "1D zero\n",
      "[0. 0. 0. 0. 0.]\n",
      "2D array\n",
      "[[0. 0. 0. 0. 0.]\n",
      " [0. 0. 0. 0. 0.]\n",
      " [0. 0. 0. 0. 0.]\n",
      " [0. 0. 0. 0. 0.]\n",
      " [0. 0. 0. 0. 0.]]\n"
     ]
    }
   ],
   "source": [
    "# array creation and initialization function - zero\n",
    "print(\"1D zero\")\n",
    "zarray= np.zeros(5)\n",
    "print(zarray)\n",
    "\n",
    "print(\"2D array\")\n",
    "zarray2= np.zeros([5,5])\n",
    "print(zarray2)"
   ]
  },
  {
   "cell_type": "code",
   "execution_count": 10,
   "metadata": {},
   "outputs": [
    {
     "name": "stdout",
     "output_type": "stream",
     "text": [
      "1D Ones\n",
      "[1. 1. 1. 1. 1.]\n",
      "2D array\n",
      "[[1. 1. 1. 1. 1.]\n",
      " [1. 1. 1. 1. 1.]\n",
      " [1. 1. 1. 1. 1.]\n",
      " [1. 1. 1. 1. 1.]\n",
      " [1. 1. 1. 1. 1.]]\n"
     ]
    }
   ],
   "source": [
    "#array creation and initializaton function - ones\n",
    "print(\"1D Ones\")\n",
    "oarray= np.ones(5)\n",
    "print(oarray)\n",
    "\n",
    "print(\"2D array\")\n",
    "oarray2= np.ones([5,5])\n",
    "print(oarray2)"
   ]
  },
  {
   "cell_type": "code",
   "execution_count": 11,
   "metadata": {},
   "outputs": [
    {
     "name": "stdout",
     "output_type": "stream",
     "text": [
      "1D array\n",
      "[6.57818695e-313 1.08221785e-312 7.00258611e-313 1.16709769e-312]\n",
      "2D array\n",
      "[[6.23042070e-307 4.67296746e-307 1.69121096e-306 1.06811083e-306]\n",
      " [8.34441742e-308 1.78022342e-306 6.23058028e-307 9.79107872e-307]\n",
      " [6.89807188e-307 7.56594375e-307 6.23060065e-307 1.78021527e-306]\n",
      " [8.34454050e-308 1.11261027e-306 1.15706896e-306 1.33512173e-306]]\n"
     ]
    }
   ],
   "source": [
    "#creating and initializing function - empty\n",
    "print(\"1D array\")\n",
    "earray= np.empty(4)\n",
    "print(earray)\n",
    "\n",
    "print(\"2D array\")\n",
    "earray2= np.empty([4,4])\n",
    "print(earray2)"
   ]
  },
  {
   "cell_type": "code",
   "execution_count": 12,
   "metadata": {},
   "outputs": [
    {
     "name": "stdout",
     "output_type": "stream",
     "text": [
      "[[1. 0. 0. 0. 0.]\n",
      " [0. 1. 0. 0. 0.]\n",
      " [0. 0. 1. 0. 0.]\n",
      " [0. 0. 0. 1. 0.]\n",
      " [0. 0. 0. 0. 1.]]\n"
     ]
    }
   ],
   "source": [
    "#array creation and initiallization fuction - eye\n",
    "iarray = np.eye(5)\n",
    "print(iarray)"
   ]
  },
  {
   "cell_type": "code",
   "execution_count": 13,
   "metadata": {},
   "outputs": [
    {
     "name": "stdout",
     "output_type": "stream",
     "text": [
      "[ 0  2  4  6  8 10 12 14 16 18 20 22 24 26 28 30 32 34 36 38 40 42 44 46\n",
      " 48]\n"
     ]
    }
   ],
   "source": [
    "#array creation and initialization function - arrange\n",
    "aArray= np.arange(0,50,2)  #(ini. value, end value , with the gap of )\n",
    "print(aArray)"
   ]
  },
  {
   "cell_type": "code",
   "execution_count": 21,
   "metadata": {},
   "outputs": [
    {
     "name": "stdout",
     "output_type": "stream",
     "text": [
      "[ 0  1  2  3  4  5  6  7  8  9 10 11 12 13 14 15 16 17 18 19 20 21 22 23\n",
      " 24 25 26 27 28 29]\n"
     ]
    }
   ],
   "source": [
    "#function of numpy array- arange\n",
    "a3= np.arange(30)\n",
    "print(a3)"
   ]
  },
  {
   "cell_type": "code",
   "execution_count": 22,
   "metadata": {},
   "outputs": [
    {
     "name": "stdout",
     "output_type": "stream",
     "text": [
      "[10 11 12 13 14 15 16 17 18 19 20 21 22 23 24 25 26 27 28 29]\n"
     ]
    }
   ],
   "source": [
    "#function of numpy array- arange()\n",
    "a4= np.arange(10,30)\n",
    "print(a4)"
   ]
  },
  {
   "cell_type": "code",
   "execution_count": 23,
   "metadata": {},
   "outputs": [
    {
     "name": "stdout",
     "output_type": "stream",
     "text": [
      "[ 0  3  6  9 12 15 18 21 24 27]\n"
     ]
    }
   ],
   "source": [
    "#function of numpy array- arange\n",
    "a4= np.arange(0,30,3)\n",
    "print(a4)"
   ]
  },
  {
   "cell_type": "code",
   "execution_count": 24,
   "metadata": {},
   "outputs": [
    {
     "name": "stdout",
     "output_type": "stream",
     "text": [
      "[0.         1.73205081 2.44948974 3.         3.46410162 3.87298335\n",
      " 4.24264069 4.58257569 4.89897949 5.19615242]\n"
     ]
    }
   ],
   "source": [
    "b1= np.sqrt(a4)\n",
    "print(b1)"
   ]
  },
  {
   "cell_type": "code",
   "execution_count": 26,
   "metadata": {},
   "outputs": [
    {
     "name": "stdout",
     "output_type": "stream",
     "text": [
      "[2.20264658e+04 1.31881573e+09 1.62754791e+05 1.20260428e+06]\n"
     ]
    }
   ],
   "source": [
    "#function of numpy array - exp() [exponential function(e to the power of x)value of e=2.718]\n",
    "a1=np.array([10,21,12,14])\n",
    "e = np.exp(a1)\n",
    "print(e)"
   ]
  },
  {
   "cell_type": "code",
   "execution_count": 35,
   "metadata": {},
   "outputs": [
    {
     "name": "stdout",
     "output_type": "stream",
     "text": [
      "[-1.90625921  1.38709403  1.23454611  1.00536752  0.07273494 -0.70035006]\n"
     ]
    }
   ],
   "source": [
    "#function of numpy array - random() creates an array of speciffied shape and \n",
    "#fills it with random values as per standard normal distribution\n",
    "\n",
    "f= np.random.randn(6)\n",
    "print(f)"
   ]
  },
  {
   "cell_type": "code",
   "execution_count": 28,
   "metadata": {},
   "outputs": [
    {
     "name": "stdout",
     "output_type": "stream",
     "text": [
      "[[ 0.12707445  0.06342984 -1.64823757 -0.11386163 -0.45578141]\n",
      " [ 0.25623122 -1.01851543 -0.5642091  -0.98831775 -0.39778976]\n",
      " [ 0.30696998  0.30304528 -0.42585403 -0.16073743 -0.23373213]\n",
      " [ 0.24331595 -1.01886748  1.06293349  0.03807659  2.36722758]\n",
      " [-1.57047465  0.34739582  0.37378868  0.02222965 -1.25075704]]\n"
     ]
    }
   ],
   "source": [
    "f= np.random.randn(5,5)\n",
    "print(f)"
   ]
  },
  {
   "cell_type": "markdown",
   "metadata": {},
   "source": [
    "# Scalar Operation"
   ]
  },
  {
   "cell_type": "code",
   "execution_count": 29,
   "metadata": {},
   "outputs": [
    {
     "data": {
      "text/plain": [
       "array([[ 2,  4,  6],\n",
       "       [ 8, 10, 12]])"
      ]
     },
     "execution_count": 29,
     "metadata": {},
     "output_type": "execute_result"
    }
   ],
   "source": [
    "#function of numpy array - add()\n",
    "\n",
    "a1= np.array([[1,2,3],[4,5,6]])\n",
    "a2= np.array([[1,2,3],[4,5,6]])\n",
    "\n",
    "np.add(a1,a2)"
   ]
  },
  {
   "cell_type": "code",
   "execution_count": 15,
   "metadata": {},
   "outputs": [
    {
     "name": "stdout",
     "output_type": "stream",
     "text": [
      "[[11 12 13]\n",
      " [21 22 23]]\n"
     ]
    }
   ],
   "source": [
    "#scalar array multiplication - usinig * operation\n",
    "\n",
    "a1 = np.array([[11,12,13], [21,22,23]])\n",
    "print(a1)"
   ]
  },
  {
   "cell_type": "code",
   "execution_count": 16,
   "metadata": {},
   "outputs": [
    {
     "data": {
      "text/plain": [
       "numpy.ndarray"
      ]
     },
     "execution_count": 16,
     "metadata": {},
     "output_type": "execute_result"
    }
   ],
   "source": [
    "type(a1)"
   ]
  },
  {
   "cell_type": "code",
   "execution_count": 17,
   "metadata": {},
   "outputs": [
    {
     "name": "stdout",
     "output_type": "stream",
     "text": [
      "[[121 144 169]\n",
      " [441 484 529]]\n"
     ]
    }
   ],
   "source": [
    "b1= a1*a1\n",
    "print(b1)"
   ]
  },
  {
   "cell_type": "code",
   "execution_count": 18,
   "metadata": {},
   "outputs": [
    {
     "name": "stdout",
     "output_type": "stream",
     "text": [
      "[[121 144 169]\n",
      " [441 484 529]]\n"
     ]
    }
   ],
   "source": [
    "#exponential multiplication- using ** operator\n",
    "c1= a1**2 #doing the squares\n",
    "print(c1)"
   ]
  },
  {
   "cell_type": "code",
   "execution_count": 19,
   "metadata": {},
   "outputs": [
    {
     "name": "stdout",
     "output_type": "stream",
     "text": [
      "[[110 132 156]\n",
      " [420 462 506]]\n"
     ]
    }
   ],
   "source": [
    "#scalar substraction of array elements\n",
    "d1= c1-a1\n",
    "print(d1)"
   ]
  },
  {
   "cell_type": "code",
   "execution_count": 20,
   "metadata": {},
   "outputs": [
    {
     "name": "stdout",
     "output_type": "stream",
     "text": [
      "[[0.09090909 0.08333333 0.07692308]\n",
      " [0.04761905 0.04545455 0.04347826]]\n"
     ]
    }
   ],
   "source": [
    "#scalar division of array elements\n",
    "f1= 1/a1\n",
    "print(f1)"
   ]
  },
  {
   "cell_type": "markdown",
   "metadata": {},
   "source": [
    "# accessing elements in array"
   ]
  },
  {
   "cell_type": "code",
   "execution_count": 30,
   "metadata": {},
   "outputs": [
    {
     "name": "stdout",
     "output_type": "stream",
     "text": [
      "[ 0  5 10 15 20 25 30 35 40 45 50 55 60 65 70 75 80 85 90 95]\n",
      "Getting first Element\n",
      "0\n",
      "getting second element\n",
      "5\n",
      "gettting last element\n",
      "95\n",
      "getting second last element\n",
      "90\n"
     ]
    }
   ],
   "source": [
    "#accesing individual element in array\n",
    "\n",
    "a1 = np.arange(0,100,5)\n",
    "print(a1)\n",
    "\n",
    "print(\"Getting first Element\")\n",
    "print(a1[0])\n",
    "\n",
    "print(\"getting second element\")\n",
    "print(a1[1])\n",
    "\n",
    "print(\"gettting last element\")\n",
    "print(a1[-1])\n",
    "\n",
    "print(\"getting second last element\")\n",
    "print(a1[-2])\n"
   ]
  },
  {
   "cell_type": "code",
   "execution_count": 31,
   "metadata": {},
   "outputs": [
    {
     "name": "stdout",
     "output_type": "stream",
     "text": [
      "grabing first 5 elements in a1\n"
     ]
    },
    {
     "data": {
      "text/plain": [
       "array([ 0,  5, 10, 15, 20, 25])"
      ]
     },
     "execution_count": 31,
     "metadata": {},
     "output_type": "execute_result"
    }
   ],
   "source": [
    "#slicing of array index [start:stop:gap]\n",
    "\n",
    "print(\"grabing first 5 elements in a1\")\n",
    "a1[0:6]"
   ]
  },
  {
   "cell_type": "code",
   "execution_count": 33,
   "metadata": {},
   "outputs": [
    {
     "name": "stdout",
     "output_type": "stream",
     "text": [
      "gtrabing first 5 elements in a1 with gap of 1\n"
     ]
    },
    {
     "data": {
      "text/plain": [
       "array([ 0, 10, 20])"
      ]
     },
     "execution_count": 33,
     "metadata": {},
     "output_type": "execute_result"
    }
   ],
   "source": [
    "print(\"gtrabing first 5 elements in a1 with gap of 1\")\n",
    "a1[0:6:2]"
   ]
  },
  {
   "cell_type": "code",
   "execution_count": 34,
   "metadata": {},
   "outputs": [
    {
     "name": "stdout",
     "output_type": "stream",
     "text": [
      "change first 5 elements to 7\n",
      "[ 7  7  7  7  7  7 30 35 40 45 50 55 60 65 70 75 80 85 90 95]\n"
     ]
    }
   ],
   "source": [
    "#updation of array using slicing \n",
    "\n",
    "print(\"change first 5 elements to 7\")\n",
    "a1[0:6] =7  #changing the numbers\n",
    "print(a1)"
   ]
  },
  {
   "cell_type": "code",
   "execution_count": null,
   "metadata": {},
   "outputs": [],
   "source": []
  }
 ],
 "metadata": {
  "kernelspec": {
   "display_name": "Python 3",
   "language": "python",
   "name": "python3"
  },
  "language_info": {
   "codemirror_mode": {
    "name": "ipython",
    "version": 3
   },
   "file_extension": ".py",
   "mimetype": "text/x-python",
   "name": "python",
   "nbconvert_exporter": "python",
   "pygments_lexer": "ipython3",
   "version": "3.7.6"
  }
 },
 "nbformat": 4,
 "nbformat_minor": 4
}
